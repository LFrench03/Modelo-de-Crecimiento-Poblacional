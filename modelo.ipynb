{
 "cells": [
  {
   "cell_type": "markdown",
   "metadata": {},
   "source": [
    "### *Modelo de Crecimiento Poblacional*\n",
    "\n",
    "![](img/cuba3.jpeg)"
   ]
  },
  {
   "cell_type": "code",
   "execution_count": 293,
   "metadata": {},
   "outputs": [],
   "source": [
    "#Imports:\n",
    "import numpy as np\n",
    "from pandas import read_csv, DataFrame\n",
    "from scipy.optimize import curve_fit\n",
    "import matplotlib.pyplot as plt"
   ]
  },
  {
   "cell_type": "code",
   "execution_count": 294,
   "metadata": {},
   "outputs": [
    {
     "name": "stdout",
     "output_type": "stream",
     "text": [
      "Tiempos: \n",
      "[0, 1, 2, 3, 4, 5, 6, 7, 8, 9, 10, 11, 12, 13, 14, 15, 16, 17, 18, 19, 20, 21, 22, 23, 24, 25, 26, 27, 28, 29, 30, 31, 32, 33, 34, 35, 36, 37, 38, 39, 40, 41, 42]\n",
      "\n",
      "Cantidad de valores: 43\n",
      "\n",
      "Valores de Densidad Poblacional: \n",
      "[9693907, 9753243, 9844836, 9938760, 10032721, 10138642, 10228330, 10334993, 10443789, 10548347, 10662148, 10756829, 10829320, 10895987, 10912924, 10947119, 10983326, 11033993, 11076817, 11113128, 11146203, 11168526, 11200388, 11215388, 11217590, 11218623, 11202632, 11188028, 11173996, 11174952, 11167934, 11175423, 11173151, 11210064, 11238317, 11239004, 11239224, 11221060, 11209628, 11193470, 11181595, 11113215, 11089511]\n",
      "\n",
      "Valores de tasa de crecimiento anual de la poblacion: \n",
      "[-6.2, 6.1, 9.3, 9.5, 9.4, 10.5, 8.8, 10.4, 10.5, 10.0, 11.1, 8.8, 6.7, 6.1, 1.6, 3.1, 3.3, 4.6, 3.9, 3.3, 3.0, 2.0, 2.8, 1.3, 0.2, 0.1, -1.4, -1.3, -1.3, 0.1, -0.6, 0.7, -0.2, 3.3, 2.5, 0.1, 0.0, -1.6, -1.0, -1.4, -1.1, -6.1, -2.1]\n"
     ]
    }
   ],
   "source": [
    "#Lectura del dataset:\n",
    "data_set = read_csv(\"data/csv/poblacion-residente.csv\")\n",
    "data_set = DataFrame(data_set)\n",
    "indices_years = [x for x,y in enumerate(list(data_set[\"CONCEPTO\"]))] #Años\n",
    "print(f\"Tiempos: \\n{indices_years}\\n\")\n",
    "\n",
    "val_poblacion = list(data_set[\"Total\"]) #Valores de P(t)\n",
    "n = len(val_poblacion) #Tamaño en datos\n",
    "print(f\"Cantidad de valores: {n}\\n\")\n",
    "print(f\"Valores de Densidad Poblacional: \\n{val_poblacion}\\n\")\n",
    "\n",
    "r = list(data_set[\"Tasa\"]) #Tasas\n",
    "print(f\"Valores de tasa de crecimiento anual de la poblacion: \\n{r}\")\n",
    "\n"
   ]
  },
  {
   "cell_type": "code",
   "execution_count": 295,
   "metadata": {},
   "outputs": [],
   "source": [
    "#Convertir a array para trabajar los datos como vectores:\n",
    "t_data = np.array(indices_years)\n",
    "P_data = np.array(val_poblacion)"
   ]
  },
  {
   "cell_type": "code",
   "execution_count": 296,
   "metadata": {},
   "outputs": [],
   "source": [
    "# Definicion de la función logística\n",
    "def logistic_function(t, A, K, r):\n",
    "    return K / (1 + A * np.exp(-r * t))\n"
   ]
  },
  {
   "cell_type": "code",
   "execution_count": 297,
   "metadata": {},
   "outputs": [
    {
     "name": "stdout",
     "output_type": "stream",
     "text": [
      "Parámetros estimados: [1.81636488e-01 1.12562138e+07 1.19522467e-01]\n"
     ]
    }
   ],
   "source": [
    "# Parámetros iniciales:\n",
    "initial_guess = [1, 10000000, 0.01]  # Asume un valor inicial para A, K y r\n",
    "\n",
    "# Ajustar el modelo a los datos observados\n",
    "popt, pcov = curve_fit(logistic_function, t_data, P_data, p0=initial_guess, sigma=None, absolute_sigma=False)\n",
    "\n",
    "# Imprimir los parámetros estimados\n",
    "print(\"Parámetros estimados:\", popt)\n"
   ]
  },
  {
   "cell_type": "markdown",
   "metadata": {},
   "source": [
    "Este código ajustará la función logística a los datos observados, buscando los valores óptimos de (A), (K), y (r) que minimicen la diferencia entre los datos observados y los predichos por el modelo. La función `curve_fit` del modulo `scipy.optimize` devuelve dos arrays: `popt`, que contiene los *parámetros estimados*, y `pcov`, que contiene la *covarianza de los parámetros estimados*.\n",
    "\n",
    "La función `curve_fit` es parte de la biblioteca `SciPy` y se utiliza para ajustar una función a un conjunto de datos mediante el método de *mínimos cuadrados*. Su objetivo principal es encontrar los parámetros de la función que minimizan la diferencia entre los valores observados y los predichos por la función"
   ]
  },
  {
   "cell_type": "code",
   "execution_count": 298,
   "metadata": {},
   "outputs": [
    {
     "name": "stdout",
     "output_type": "stream",
     "text": [
      "Parametros formateados: \n",
      " ['0.18', '11256213.83', '0.12']\n",
      "A = 0.18\n",
      "K = 11256213.83\n",
      "r = 0.12\n"
     ]
    }
   ],
   "source": [
    "#Luego se formatean los datos:\n",
    "params_formateados = [format(param, \".2f\") for param in popt]\n",
    "print(\"Parametros formateados: \\n\", params_formateados)\n",
    "\n",
    "#Asignacion:\n",
    "A = float(params_formateados[0]) #Constante A\n",
    "K = float(params_formateados[1]) #Parametro K\n",
    "r_intrinseca = float(params_formateados[2]) # Tasa intrinseca de crecimiento r\n",
    "print(f\"A = {A}\\nK = {K}\\nr = {r_intrinseca}\")\n"
   ]
  },
  {
   "cell_type": "markdown",
   "metadata": {},
   "source": [
    "### *Comparacion Datos Reales Vs Evaluaciones de la Funcion Logistica*"
   ]
  },
  {
   "cell_type": "code",
   "execution_count": 299,
   "metadata": {},
   "outputs": [
    {
     "name": "stdout",
     "output_type": "stream",
     "text": [
      "Reales Vs Prediccion\n",
      "=====================\n",
      "9693907 vs 9539164\n",
      "9753243 vs 9706597\n",
      "9844836 vs 9860093\n",
      "9938760 vs 10000352\n",
      "10032721 vs 10128132\n",
      "10138642 vs 10244226\n",
      "10228330 vs 10349443\n",
      "10334993 vs 10444586\n",
      "10443789 vs 10530447\n",
      "10548347 vs 10607789\n",
      "10662148 vs 10677342\n",
      "10756829 vs 10739797\n",
      "10829320 vs 10795805\n",
      "10895987 vs 10845970\n",
      "10912924 vs 10890854\n",
      "10947119 vs 10930975\n",
      "10983326 vs 10966807\n",
      "11033993 vs 10998785\n",
      "11076817 vs 11027303\n",
      "11113128 vs 11052720\n",
      "11146203 vs 11075361\n",
      "11168526 vs 11095520\n",
      "11200388 vs 11113461\n",
      "11215388 vs 11129421\n",
      "11217590 vs 11143615\n",
      "11218623 vs 11156235\n",
      "11202632 vs 11167451\n",
      "11188028 vs 11177418\n",
      "11173996 vs 11186273\n",
      "11174952 vs 11194138\n",
      "11167934 vs 11201123\n",
      "11175423 vs 11207326\n",
      "11173151 vs 11212833\n",
      "11210064 vs 11217721\n",
      "11238317 vs 11222061\n",
      "11239004 vs 11225912\n",
      "11239224 vs 11229331\n",
      "11221060 vs 11232364\n",
      "11209628 vs 11235056\n",
      "11193470 vs 11237444\n",
      "11181595 vs 11239564\n",
      "11113215 vs 11241444\n",
      "11089511 vs 11243112\n"
     ]
    },
    {
     "data": {
      "image/png": "[encoded data removed]",
      "text/plain": [
       "<Figure size 720x432 with 1 Axes>"
      ]
     },
     "metadata": {
      "needs_background": "light"
     },
     "output_type": "display_data"
    }
   ],
   "source": [
    "# Valores predichos por la función logística\n",
    "predicted_population = logistic_function(t_data, A, K, r_intrinseca)\n",
    "predicted_population = [int(x) for x in predicted_population]\n",
    "print(\"Reales Vs Prediccion\\n=====================\")\n",
    "for i,j in zip(list(P_data), list(predicted_population)):\n",
    "    print(i, \"vs\", j)\n",
    "\n",
    "years = np.arange(1980,2023) #Vector de años\n",
    "\n",
    "# Plot de los datos reales vs los predichos\n",
    "plt.figure(figsize=(10, 6))\n",
    "plt.plot(years, P_data, label='Datos reales', marker='o', linestyle='-')\n",
    "plt.plot(years, predicted_population, label='Predicción logística', marker='x', linestyle='--')\n",
    "\n",
    "plt.xlabel('Tiempo')\n",
    "plt.ylabel('Población')\n",
    "plt.title('Comparación de datos reales vs predicciones de la función logística')\n",
    "plt.legend()\n",
    "\n",
    "plt.grid(True)\n",
    "plt.show()"
   ]
  }
 ],
 "metadata": {
  "kernelspec": {
   "display_name": "Python 3",
   "language": "python",
   "name": "python3"
  },
  "language_info": {
   "codemirror_mode": {
    "name": "ipython",
    "version": 3
   },
   "file_extension": ".py",
   "mimetype": "text/x-python",
   "name": "python",
   "nbconvert_exporter": "python",
   "pygments_lexer": "ipython3",
   "version": "3.10.12"
  }
 },
 "nbformat": 4,
 "nbformat_minor": 2
}
